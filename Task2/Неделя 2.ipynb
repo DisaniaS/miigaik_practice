{
 "cells": [
  {
   "cell_type": "markdown",
   "metadata": {},
   "source": [
    "# Неделя 2. Визуализация на карте и чуть-чуть пространственного анализа\n",
    "То, что вы видите перед собой - это **Jupyter Notebook**, такой специальный интерактивный блокнот, который содержит и текст с оформлением и фрагменты кода, при запуске любого из которых под ним появится блок с результатами выполнения.\n",
    "Почитать подробнее об этой технологии можно вот здесь: https://webdevblog.ru/jupyter-notebook-dlya-nachinajushhih-uchebnik/\n",
    "В строке браузера вы видите адрес jupyter-сервера, который настроен для выполнения этих заданий. Однако, если у вас есть потребность, вы можете загрузить сам файл с расширением .ipynb и в другие программы и веб-сервисы для работы с таким форматом. Выполнение заданий возможно в любой удобной вам среде."
   ]
  },
  {
   "cell_type": "markdown",
   "metadata": {},
   "source": [
    "## Подготовительные действия\n",
    "### Установка библиотек\n",
    "Для выполнения этой работы нам потребуется несколько библиотек. Часть из них взаимосвязана, поэтому устанавливаются они в конкретный каталог, для того, чтобы потом правильно отрабатывал импорт."
   ]
  },
  {
   "cell_type": "code",
   "execution_count": 1,
   "metadata": {},
   "outputs": [
    {
     "name": "stdout",
     "output_type": "stream",
     "text": [
      "Defaulting to user installation because normal site-packages is not writeable\n",
      "Requirement already satisfied: numpy in ./.local/lib/python3.10/site-packages (1.26.2)\n"
     ]
    }
   ],
   "source": [
    "!/opt/tljh/user/bin/pip install numpy"
   ]
  },
  {
   "cell_type": "code",
   "execution_count": 2,
   "metadata": {},
   "outputs": [
    {
     "name": "stdout",
     "output_type": "stream",
     "text": [
      "Defaulting to user installation because normal site-packages is not writeable\n",
      "Requirement already satisfied: branca in ./.local/lib/python3.10/site-packages (0.7.0)\n",
      "Requirement already satisfied: jinja2 in /opt/tljh/user/lib/python3.10/site-packages (from branca) (3.1.2)\n",
      "Requirement already satisfied: MarkupSafe>=2.0 in /opt/tljh/user/lib/python3.10/site-packages (from jinja2->branca) (2.1.3)\n"
     ]
    }
   ],
   "source": [
    "!/opt/tljh/user/bin/pip install branca"
   ]
  },
  {
   "cell_type": "code",
   "execution_count": 3,
   "metadata": {},
   "outputs": [
    {
     "name": "stdout",
     "output_type": "stream",
     "text": [
      "Defaulting to user installation because normal site-packages is not writeable\n",
      "Requirement already satisfied: folium in ./.local/lib/python3.10/site-packages (0.15.0)\n",
      "Requirement already satisfied: branca>=0.6.0 in ./.local/lib/python3.10/site-packages (from folium) (0.7.0)\n",
      "Requirement already satisfied: jinja2>=2.9 in /opt/tljh/user/lib/python3.10/site-packages (from folium) (3.1.2)\n",
      "Requirement already satisfied: numpy in ./.local/lib/python3.10/site-packages (from folium) (1.26.2)\n",
      "Requirement already satisfied: requests in /opt/tljh/user/lib/python3.10/site-packages (from folium) (2.31.0)\n",
      "Requirement already satisfied: MarkupSafe>=2.0 in /opt/tljh/user/lib/python3.10/site-packages (from jinja2>=2.9->folium) (2.1.3)\n",
      "Requirement already satisfied: charset-normalizer<4,>=2 in /opt/tljh/user/lib/python3.10/site-packages (from requests->folium) (3.1.0)\n",
      "Requirement already satisfied: idna<4,>=2.5 in /opt/tljh/user/lib/python3.10/site-packages (from requests->folium) (3.4)\n",
      "Requirement already satisfied: urllib3<3,>=1.21.1 in /opt/tljh/user/lib/python3.10/site-packages (from requests->folium) (1.26.15)\n",
      "Requirement already satisfied: certifi>=2017.4.17 in /opt/tljh/user/lib/python3.10/site-packages (from requests->folium) (2022.12.7)\n"
     ]
    }
   ],
   "source": [
    "!/opt/tljh/user/bin/pip install folium"
   ]
  },
  {
   "cell_type": "code",
   "execution_count": 4,
   "metadata": {},
   "outputs": [
    {
     "name": "stdout",
     "output_type": "stream",
     "text": [
      "Defaulting to user installation because normal site-packages is not writeable\n",
      "Requirement already satisfied: shapely in ./.local/lib/python3.10/site-packages (2.0.2)\n",
      "Requirement already satisfied: numpy>=1.14 in ./.local/lib/python3.10/site-packages (from shapely) (1.26.2)\n"
     ]
    }
   ],
   "source": [
    "!/opt/tljh/user/bin/pip install shapely"
   ]
  },
  {
   "cell_type": "code",
   "execution_count": 5,
   "metadata": {},
   "outputs": [
    {
     "name": "stdout",
     "output_type": "stream",
     "text": [
      "Defaulting to user installation because normal site-packages is not writeable\n",
      "Requirement already satisfied: geopy in ./.local/lib/python3.10/site-packages (2.4.1)\n",
      "Requirement already satisfied: geographiclib<3,>=1.52 in ./.local/lib/python3.10/site-packages (from geopy) (2.0)\n"
     ]
    }
   ],
   "source": [
    "!/opt/tljh/user/bin/pip install geopy"
   ]
  },
  {
   "cell_type": "markdown",
   "metadata": {
    "id": "r5aLr9rFFvvB"
   },
   "source": [
    "## Знакомимся с библиотеками\n",
    "### Попробуем поработать с картой\n",
    "Folium — это мощная библиотека визуализации данных в Python, которая была создана в первую очередь для того, чтобы помочь людям визуализировать гео-пространственные данные.\n",
    "Создание карты мира с помощью Folium довольно просто. Вы просто вызываете функцию карты - `folium.Map()`, и это все.\n",
    "\n",
    "Для фокусирования карты мы передаем значения желаемых широты и долготы с помощью параметра `location` (местоположения) и можно установить начальный уровень масштабирования с помощью параметра `zoom_start`.\n",
    "Параметр `tiles` даёт возможность задать подложку карты. \n",
    "Сейчас выбрана подложка `Cartodb Positron`, но попробуйте также варианты `OpenStreetMap`, `Cartodb dark_matter`.\n",
    "\n",
    "А `control_scale` включает/выключает элемент интерфеса, позволяющий управлять масштабом уже созданной карты с помощью кнопок + и -.\n",
    "\n",
    "Для вывода на карте точек мы можем использовать `folium.Marker` и `folium.CircleMarker`. Для их размещения достаточно указать координаты одной точки в параметре `location`. Для линейных и площадных объектов аналогом будет параметр `locations` в котором указывается массив точек или массив массивов точек. \n",
    "Для всех добавленных объектов мы можем указать в `tooltip` текст подсказки, который будет показан при наведении на объект. А в параметре `popup` текст, который откроется при нажатии.\n",
    "\n",
    "Подробные инструкции и другие параметры можно изучить по ссылке: https://python-visualization.github.io/folium/latest/user_guide/map.html"
   ]
  },
  {
   "cell_type": "code",
   "execution_count": 7,
   "metadata": {
    "colab": {
     "base_uri": "https://localhost:8080/",
     "height": 1000
    },
    "id": "EwXwodo6AUk4",
    "outputId": "4145b86c-c8de-443c-86de-17b4f863c8c3",
    "scrolled": true
   },
   "outputs": [
    {
     "data": {
      "text/html": [
       "<div style=\"width:100%;\"><div style=\"position:relative;width:100%;height:0;padding-bottom:60%;\"><span style=\"color:#565656\">Make this Notebook Trusted to load map: File -> Trust Notebook</span><iframe srcdoc=\"&lt;!DOCTYPE html&gt;\n",
       "&lt;html&gt;\n",
       "&lt;head&gt;\n",
       "    \n",
       "    &lt;meta http-equiv=&quot;content-type&quot; content=&quot;text/html; charset=UTF-8&quot; /&gt;\n",
       "    \n",
       "        &lt;script&gt;\n",
       "            L_NO_TOUCH = false;\n",
       "            L_DISABLE_3D = false;\n",
       "        &lt;/script&gt;\n",
       "    \n",
       "    &lt;style&gt;html, body {width: 100%;height: 100%;margin: 0;padding: 0;}&lt;/style&gt;\n",
       "    &lt;style&gt;#map {position:absolute;top:0;bottom:0;right:0;left:0;}&lt;/style&gt;\n",
       "    &lt;script src=&quot;https://cdn.jsdelivr.net/npm/leaflet@1.9.3/dist/leaflet.js&quot;&gt;&lt;/script&gt;\n",
       "    &lt;script src=&quot;https://code.jquery.com/jquery-3.7.1.min.js&quot;&gt;&lt;/script&gt;\n",
       "    &lt;script src=&quot;https://cdn.jsdelivr.net/npm/bootstrap@5.2.2/dist/js/bootstrap.bundle.min.js&quot;&gt;&lt;/script&gt;\n",
       "    &lt;script src=&quot;https://cdnjs.cloudflare.com/ajax/libs/Leaflet.awesome-markers/2.0.2/leaflet.awesome-markers.js&quot;&gt;&lt;/script&gt;\n",
       "    &lt;link rel=&quot;stylesheet&quot; href=&quot;https://cdn.jsdelivr.net/npm/leaflet@1.9.3/dist/leaflet.css&quot;/&gt;\n",
       "    &lt;link rel=&quot;stylesheet&quot; href=&quot;https://cdn.jsdelivr.net/npm/bootstrap@5.2.2/dist/css/bootstrap.min.css&quot;/&gt;\n",
       "    &lt;link rel=&quot;stylesheet&quot; href=&quot;https://netdna.bootstrapcdn.com/bootstrap/3.0.0/css/bootstrap.min.css&quot;/&gt;\n",
       "    &lt;link rel=&quot;stylesheet&quot; href=&quot;https://cdn.jsdelivr.net/npm/@fortawesome/fontawesome-free@6.2.0/css/all.min.css&quot;/&gt;\n",
       "    &lt;link rel=&quot;stylesheet&quot; href=&quot;https://cdnjs.cloudflare.com/ajax/libs/Leaflet.awesome-markers/2.0.2/leaflet.awesome-markers.css&quot;/&gt;\n",
       "    &lt;link rel=&quot;stylesheet&quot; href=&quot;https://cdn.jsdelivr.net/gh/python-visualization/folium/folium/templates/leaflet.awesome.rotate.min.css&quot;/&gt;\n",
       "    \n",
       "            &lt;meta name=&quot;viewport&quot; content=&quot;width=device-width,\n",
       "                initial-scale=1.0, maximum-scale=1.0, user-scalable=no&quot; /&gt;\n",
       "            &lt;style&gt;\n",
       "                #map_d2eb9d9fb41c0742cfb4180a60fb1e3e {\n",
       "                    position: relative;\n",
       "                    width: 100.0%;\n",
       "                    height: 100.0%;\n",
       "                    left: 0.0%;\n",
       "                    top: 0.0%;\n",
       "                }\n",
       "                .leaflet-container { font-size: 1rem; }\n",
       "            &lt;/style&gt;\n",
       "        \n",
       "&lt;/head&gt;\n",
       "&lt;body&gt;\n",
       "    \n",
       "    \n",
       "            &lt;div class=&quot;folium-map&quot; id=&quot;map_d2eb9d9fb41c0742cfb4180a60fb1e3e&quot; &gt;&lt;/div&gt;\n",
       "        \n",
       "&lt;/body&gt;\n",
       "&lt;script&gt;\n",
       "    \n",
       "    \n",
       "            var map_d2eb9d9fb41c0742cfb4180a60fb1e3e = L.map(\n",
       "                &quot;map_d2eb9d9fb41c0742cfb4180a60fb1e3e&quot;,\n",
       "                {\n",
       "                    center: [59.93, 30.33],\n",
       "                    crs: L.CRS.EPSG3857,\n",
       "                    zoom: 13,\n",
       "                    zoomControl: true,\n",
       "                    preferCanvas: false,\n",
       "                }\n",
       "            );\n",
       "            L.control.scale().addTo(map_d2eb9d9fb41c0742cfb4180a60fb1e3e);\n",
       "\n",
       "            \n",
       "\n",
       "        \n",
       "    \n",
       "            var tile_layer_19e827607e1dcae0dc83460917c6d0ab = L.tileLayer(\n",
       "                &quot;https://cartodb-basemaps-{s}.global.ssl.fastly.net/light_all/{z}/{x}/{y}.png&quot;,\n",
       "                {&quot;attribution&quot;: &quot;\\u0026copy; \\u003ca target=\\&quot;_blank\\&quot; href=\\&quot;http://www.openstreetmap.org/copyright\\&quot;\\u003eOpenStreetMap\\u003c/a\\u003e contributors \\u0026copy; \\u003ca target=\\&quot;_blank\\&quot; href=\\&quot;http://cartodb.com/attributions\\&quot;\\u003eCartoDB\\u003c/a\\u003e, CartoDB \\u003ca target=\\&quot;_blank\\&quot; href =\\&quot;http://cartodb.com/attributions\\&quot;\\u003eattributions\\u003c/a\\u003e&quot;, &quot;detectRetina&quot;: false, &quot;maxNativeZoom&quot;: 18, &quot;maxZoom&quot;: 18, &quot;minZoom&quot;: 0, &quot;noWrap&quot;: false, &quot;opacity&quot;: 1, &quot;subdomains&quot;: &quot;abc&quot;, &quot;tms&quot;: false}\n",
       "            );\n",
       "        \n",
       "    \n",
       "                tile_layer_19e827607e1dcae0dc83460917c6d0ab.addTo(map_d2eb9d9fb41c0742cfb4180a60fb1e3e);\n",
       "    \n",
       "                var lat_lng_popup_e36ff00b9484fa847042fb1dc12f2442 = L.popup();\n",
       "                function latLngPop(e) {\n",
       "                    lat_lng_popup_e36ff00b9484fa847042fb1dc12f2442\n",
       "                        .setLatLng(e.latlng)\n",
       "                        .setContent(&quot;Latitude: &quot; + e.latlng.lat.toFixed(4) +\n",
       "                                    &quot;&lt;br&gt;Longitude: &quot; + e.latlng.lng.toFixed(4))\n",
       "                        .openOn(map_d2eb9d9fb41c0742cfb4180a60fb1e3e);\n",
       "                    }\n",
       "                map_d2eb9d9fb41c0742cfb4180a60fb1e3e.on(&#x27;click&#x27;, latLngPop);\n",
       "            \n",
       "    \n",
       "            var marker_b0de50f15d51275e7c56d7fa1385ba80 = L.marker(\n",
       "                [59.94, 30.35],\n",
       "                {}\n",
       "            ).addTo(map_d2eb9d9fb41c0742cfb4180a60fb1e3e);\n",
       "        \n",
       "    \n",
       "        var popup_4cdac7ac2ad5bd3cc7445c916e46477e = L.popup({&quot;maxWidth&quot;: &quot;100%&quot;});\n",
       "\n",
       "        \n",
       "            \n",
       "                var html_51857cc6b0d8489ffc2504e48a0778a5 = $(`&lt;div id=&quot;html_51857cc6b0d8489ffc2504e48a0778a5&quot; style=&quot;width: 100.0%; height: 100.0%;&quot;&gt;&lt;i&gt;Здесь был Вася&lt;/i&gt;&lt;/div&gt;`)[0];\n",
       "                popup_4cdac7ac2ad5bd3cc7445c916e46477e.setContent(html_51857cc6b0d8489ffc2504e48a0778a5);\n",
       "            \n",
       "        \n",
       "\n",
       "        marker_b0de50f15d51275e7c56d7fa1385ba80.bindPopup(popup_4cdac7ac2ad5bd3cc7445c916e46477e)\n",
       "        ;\n",
       "\n",
       "        \n",
       "    \n",
       "    \n",
       "            marker_b0de50f15d51275e7c56d7fa1385ba80.bindTooltip(\n",
       "                `&lt;div&gt;\n",
       "                     Метка 1\n",
       "                 &lt;/div&gt;`,\n",
       "                {&quot;sticky&quot;: true}\n",
       "            );\n",
       "        \n",
       "    \n",
       "            var marker_0e29e40800efe5c1a186c9a36d2d5cdf = L.marker(\n",
       "                [59.92, 30.32],\n",
       "                {}\n",
       "            ).addTo(map_d2eb9d9fb41c0742cfb4180a60fb1e3e);\n",
       "        \n",
       "    \n",
       "            var icon_10e7e63993683076cf2d5a2a8b006c68 = L.AwesomeMarkers.icon(\n",
       "                {&quot;extraClasses&quot;: &quot;fa-rotate-0&quot;, &quot;icon&quot;: &quot;info-sign&quot;, &quot;iconColor&quot;: &quot;white&quot;, &quot;markerColor&quot;: &quot;green&quot;, &quot;prefix&quot;: &quot;glyphicon&quot;}\n",
       "            );\n",
       "            marker_0e29e40800efe5c1a186c9a36d2d5cdf.setIcon(icon_10e7e63993683076cf2d5a2a8b006c68);\n",
       "        \n",
       "    \n",
       "        var popup_557e0ff3b9ee63c67bf215920ea6277a = L.popup({&quot;maxWidth&quot;: &quot;100%&quot;});\n",
       "\n",
       "        \n",
       "            \n",
       "                var html_dacd8148611349be829f5b6b73aac545 = $(`&lt;div id=&quot;html_dacd8148611349be829f5b6b73aac545&quot; style=&quot;width: 100.0%; height: 100.0%;&quot;&gt;&lt;b&gt;Хорошее кафе&lt;/b&gt;&lt;/div&gt;`)[0];\n",
       "                popup_557e0ff3b9ee63c67bf215920ea6277a.setContent(html_dacd8148611349be829f5b6b73aac545);\n",
       "            \n",
       "        \n",
       "\n",
       "        marker_0e29e40800efe5c1a186c9a36d2d5cdf.bindPopup(popup_557e0ff3b9ee63c67bf215920ea6277a)\n",
       "        ;\n",
       "\n",
       "        \n",
       "    \n",
       "    \n",
       "            marker_0e29e40800efe5c1a186c9a36d2d5cdf.bindTooltip(\n",
       "                `&lt;div&gt;\n",
       "                     Метка 2\n",
       "                 &lt;/div&gt;`,\n",
       "                {&quot;sticky&quot;: true}\n",
       "            );\n",
       "        \n",
       "    \n",
       "            var circle_marker_61cd99542b69f59281a4334a3316a006 = L.circleMarker(\n",
       "                [59.93, 30.33],\n",
       "                {&quot;bubblingMouseEvents&quot;: true, &quot;color&quot;: &quot;#3186cc&quot;, &quot;dashArray&quot;: null, &quot;dashOffset&quot;: null, &quot;fill&quot;: true, &quot;fillColor&quot;: &quot;#3186cc&quot;, &quot;fillOpacity&quot;: 0.2, &quot;fillRule&quot;: &quot;evenodd&quot;, &quot;lineCap&quot;: &quot;round&quot;, &quot;lineJoin&quot;: &quot;round&quot;, &quot;opacity&quot;: 1.0, &quot;radius&quot;: 50, &quot;stroke&quot;: true, &quot;weight&quot;: 3}\n",
       "            ).addTo(map_d2eb9d9fb41c0742cfb4180a60fb1e3e);\n",
       "        \n",
       "    \n",
       "        var popup_293ca6af281a3202f88502c05eea7531 = L.popup({&quot;maxWidth&quot;: &quot;100%&quot;});\n",
       "\n",
       "        \n",
       "            \n",
       "                var html_d7e4692d7b8c106723c7e3d3c5c7e38d = $(`&lt;div id=&quot;html_d7e4692d7b8c106723c7e3d3c5c7e38d&quot; style=&quot;width: 100.0%; height: 100.0%;&quot;&gt;Апраксин двор&lt;/div&gt;`)[0];\n",
       "                popup_293ca6af281a3202f88502c05eea7531.setContent(html_d7e4692d7b8c106723c7e3d3c5c7e38d);\n",
       "            \n",
       "        \n",
       "\n",
       "        circle_marker_61cd99542b69f59281a4334a3316a006.bindPopup(popup_293ca6af281a3202f88502c05eea7531)\n",
       "        ;\n",
       "\n",
       "        \n",
       "    \n",
       "    \n",
       "            var polygon_59bc757f16479d47a8b7007dbd25e977 = L.polygon(\n",
       "                [[[59.9262, 30.3495], [59.9218, 30.3431], [59.9267, 30.3468], [59.9295, 30.3424], [59.9287, 30.3491]], [[59.91, 30.34], [59.9115, 30.34], [59.9115, 30.343], [59.91, 30.343]]],\n",
       "                {&quot;bubblingMouseEvents&quot;: true, &quot;color&quot;: &quot;blue&quot;, &quot;dashArray&quot;: null, &quot;dashOffset&quot;: null, &quot;fill&quot;: true, &quot;fillColor&quot;: &quot;red&quot;, &quot;fillOpacity&quot;: 0.5, &quot;fillRule&quot;: &quot;evenodd&quot;, &quot;lineCap&quot;: &quot;round&quot;, &quot;lineJoin&quot;: &quot;round&quot;, &quot;noClip&quot;: false, &quot;opacity&quot;: 1.0, &quot;smoothFactor&quot;: 1.0, &quot;stroke&quot;: true, &quot;weight&quot;: 2}\n",
       "            ).addTo(map_d2eb9d9fb41c0742cfb4180a60fb1e3e);\n",
       "        \n",
       "    \n",
       "        var popup_12efe7319a2f83e8fa8e2e631d155700 = L.popup({&quot;maxWidth&quot;: &quot;100%&quot;});\n",
       "\n",
       "        \n",
       "            \n",
       "                var html_7606a8fdaa0dc20cbc44d106d856074c = $(`&lt;div id=&quot;html_7606a8fdaa0dc20cbc44d106d856074c&quot; style=&quot;width: 100.0%; height: 100.0%;&quot;&gt;Тестовый полигон&lt;/div&gt;`)[0];\n",
       "                popup_12efe7319a2f83e8fa8e2e631d155700.setContent(html_7606a8fdaa0dc20cbc44d106d856074c);\n",
       "            \n",
       "        \n",
       "\n",
       "        polygon_59bc757f16479d47a8b7007dbd25e977.bindPopup(popup_12efe7319a2f83e8fa8e2e631d155700)\n",
       "        ;\n",
       "\n",
       "        \n",
       "    \n",
       "    \n",
       "            polygon_59bc757f16479d47a8b7007dbd25e977.bindTooltip(\n",
       "                `&lt;div&gt;\n",
       "                     Кликни!\n",
       "                 &lt;/div&gt;`,\n",
       "                {&quot;sticky&quot;: true}\n",
       "            );\n",
       "        \n",
       "&lt;/script&gt;\n",
       "&lt;/html&gt;\" style=\"position:absolute;width:100%;height:100%;left:0;top:0;border:none !important;\" allowfullscreen webkitallowfullscreen mozallowfullscreen></iframe></div></div>"
      ],
      "text/plain": [
       "<folium.folium.Map at 0x7f288def7460>"
      ]
     },
     "execution_count": 7,
     "metadata": {},
     "output_type": "execute_result"
    }
   ],
   "source": [
    "import folium\n",
    "\n",
    "m1 = folium.Map(location=[59.93, 30.33], control_scale=True,\n",
    "                tiles='Cartodb Positron',\n",
    "                zoom_start=13)\n",
    "m1.add_child(\n",
    "    folium.LatLngPopup()\n",
    ")\n",
    "folium.Marker(\n",
    "    location=[59.94, 30.35],\n",
    "    popup='<i>Здесь был Вася</i>',\n",
    "    tooltip='Метка 1').add_to(m1) # попробуйте добавить: icon=folium.Icon(icon=\"cloud\")\n",
    "\n",
    "folium.Marker(\n",
    "    location=[59.92, 30.32],\n",
    "    popup='<b>Хорошее кафе</b>',\n",
    "    tooltip='Метка 2',\n",
    "    icon=folium.Icon(color=\"green\")).add_to(m1) # подкрасили метку на карте\n",
    "\n",
    "folium.CircleMarker(\n",
    "    location=[59.93, 30.33],\n",
    "    radius=50,\n",
    "    popup=\"Апраксин двор\",\n",
    "    color=\"#3186cc\",\n",
    "    fill=True,\n",
    "    fill_color=\"#3186cc\",\n",
    ").add_to(m1)\n",
    "\n",
    "locations = [\n",
    "    [\n",
    "    [59.9262, 30.3495],\n",
    "    [59.9218, 30.3431],\n",
    "    [59.9267, 30.3468],\n",
    "    [59.9295, 30.3424],\n",
    "    [59.9287, 30.3491],\n",
    "],\n",
    "    [\n",
    "    [59.9100, 30.3400],\n",
    "    [59.9115, 30.3400],\n",
    "    [59.9115, 30.3430],\n",
    "    [59.9100, 30.3430],\n",
    "    ]\n",
    "]\n",
    "\n",
    "folium.Polygon(\n",
    "    locations=locations,\n",
    "    color=\"blue\",\n",
    "    weight=2,\n",
    "    fill_color=\"red\",\n",
    "    fill_opacity=0.5,\n",
    "    fill=True,\n",
    "    popup=\"Тестовый полигон\",\n",
    "    tooltip=\"Кликни!\",\n",
    ").add_to(m1)\n",
    "\n",
    "m1"
   ]
  },
  {
   "cell_type": "markdown",
   "metadata": {},
   "source": [
    "### База пространственного анализа: пересечение и вхождение\n",
    "Shapely – это библиотека для работы с планарными геометрическими объектами. Она предоставляет функционал для создания, анализа и манипуляции с геометрией объектов. \n",
    "Во фрагменте кода ниже можно посмотреть, как проверить вхождение точки в полигон, и как проверить пересечение объектов.\n",
    "\n",
    "Почитать еще:\n",
    "- https://pypi.org/project/shapely/\n",
    "- https://shapely.readthedocs.io/en/stable/manual.html"
   ]
  },
  {
   "cell_type": "code",
   "execution_count": 8,
   "metadata": {},
   "outputs": [
    {
     "data": {
      "text/plain": [
       "'Вхождение точек: True; Пересечение полигонов: False; площадь: 1.8435e-05'"
      ]
     },
     "execution_count": 8,
     "metadata": {},
     "output_type": "execute_result"
    }
   ],
   "source": [
    "import shapely\n",
    "import numpy as np\n",
    "from shapely import Point\n",
    "from shapely import Polygon\n",
    "\n",
    "point1 = Point(59.92705, 30.347)\n",
    "geoms = np.array([point1, Point(59.91, 30.31), Point(59.92, 30.32)])\n",
    "\n",
    "polygon1= Polygon([[59.9262, 30.3495],\n",
    "    [59.9218, 30.3431],\n",
    "    [59.9267, 30.3468],\n",
    "    [59.9295, 30.3424],\n",
    "    [59.9287, 30.3491]])\n",
    "polygon3= Polygon([[59.9100, 30.3400],\n",
    "    [59.9115, 30.3400],\n",
    "    [59.9115, 30.3430],\n",
    "    [59.9100, 30.3430]])\n",
    "a = shapely.contains(polygon1, geoms)\n",
    "\n",
    "b = shapely.intersects(polygon1, polygon3)\n",
    "s = \"Вхождение точек: \"+str(shapely.contains(polygon1, point1)) + \"; Пересечение полигонов: \"+str(b)+\"; площадь: \"+str(round(polygon1.area, 9))\n",
    "s\n"
   ]
  },
  {
   "cell_type": "markdown",
   "metadata": {},
   "source": [
    "### Измерение расстояний\n",
    "Модуль shapely всем прекрасен, но работает он с геометрией. И несмотря на то, что там можно запросить длину ломаной или площадь полигона, что нам это даст, если координаты даны в градусах?\n",
    "Однако мы можем импортировать модуль для подсчета расстояния geopy.distance, для того чтобы считать расстояния в километрах, подавая на вход координаты точек в градусах.\n",
    "Почитать подробнее можно вот тут: https://geopy.readthedocs.io/en/stable/#module-geopy.distance"
   ]
  },
  {
   "cell_type": "code",
   "execution_count": 9,
   "metadata": {},
   "outputs": [
    {
     "name": "stdout",
     "output_type": "stream",
     "text": [
      "Если считать длину 3 линии напрямую: 0.014555063822207528\n",
      "Расстояние (в км) от 0 до 1 точки: 0.27033403405999173\n",
      "Длина линии 3 (в км): 1.4729117965700167\n"
     ]
    }
   ],
   "source": [
    "from shapely import wkt \n",
    "from geopy.distance import geodesic as GD\n",
    "\n",
    "geom_objects = wkt.loads('''GEOMETRYCOLLECTION(\n",
    "POINT (37.630853 55.752417), \n",
    "POINT (37.632097 55.749784), \n",
    "POINT (37.625382 55.749917), \n",
    "LINESTRING (37.63347 55.753504, 37.632333 55.749567, 37.628407 55.749796, 37.624438 55.749676, 37.624138 55.752212), \n",
    "LINESTRING (37.622486 55.753311, 37.621284 55.752441, 37.618688 55.750835, 37.618023 55.750002, 37.614762 55.749338, 37.614461 55.750533, 37.615148 55.752175, 37.612573 55.75255), \n",
    "POLYGON ((37.616497 55.755134, 37.617741 55.754506, 37.616969 55.753419, 37.615467 55.753733, 37.616497 55.755134)), \n",
    "POLYGON ((37.636453 55.750509, 37.634394 55.751064, 37.6336 55.750219, 37.635745 55.749639, 37.636453 55.750509)))''')\n",
    "print(\"Если считать длину 3 линии напрямую: \"+str(geom_objects.geoms[3].length))\n",
    "print(\"Расстояние (в км) от 0 до 1 точки: \"+str(GD(geom_objects.geoms[0].coords,geom_objects.geoms[1].coords).km))\n",
    "len = 0.0\n",
    "for coord in geom_objects.geoms[3].coords:\n",
    "    num = list(geom_objects.geoms[3].coords).index(coord)\n",
    "    if num > 0:\n",
    "        len = len + GD(geom_objects.geoms[3].coords[num - 1], coord).km\n",
    "print(\"Длина линии 3 (в км): \"+str(len))"
   ]
  },
  {
   "cell_type": "markdown",
   "metadata": {},
   "source": [
    "## Приступим!\n",
    "### Генерация исходных данных\n",
    "Следующая команда создаёт файл `geom.wkt` с некоторым случайным набором геометрических объектов (точек, ломаных и полигонов). Он понадобится для выполнения задания."
   ]
  },
  {
   "cell_type": "code",
   "execution_count": 16,
   "metadata": {},
   "outputs": [],
   "source": [
    "!python createGeom.py"
   ]
  },
  {
   "cell_type": "markdown",
   "metadata": {},
   "source": [
    "Посмотрим, что получилось:"
   ]
  },
  {
   "cell_type": "code",
   "execution_count": 17,
   "metadata": {},
   "outputs": [
    {
     "data": {
      "image/svg+xml": [
       "<svg xmlns=\"http://www.w3.org/2000/svg\" xmlns:xlink=\"http://www.w3.org/1999/xlink\" width=\"100.0\" height=\"100.0\" viewBox=\"55.751327234748416 37.602793499221434 0.07096354694026985 0.11116356384410153\" preserveAspectRatio=\"xMinYMin meet\"><g transform=\"matrix(1,0,0,-1,0,75.31675056228697)\"><g><circle cx=\"55.784327221589535\" cy=\"37.64736919639627\" r=\"0.003334906915323046\" stroke=\"#555555\" stroke-width=\"0.0011116356384410153\" fill=\"#66cc99\" opacity=\"0.6\" /><circle cx=\"55.77074231987004\" cy=\"37.642915005575674\" r=\"0.003334906915323046\" stroke=\"#555555\" stroke-width=\"0.0011116356384410153\" fill=\"#66cc99\" opacity=\"0.6\" /><circle cx=\"55.77845688465002\" cy=\"37.61750577816164\" r=\"0.003334906915323046\" stroke=\"#555555\" stroke-width=\"0.0011116356384410153\" fill=\"#66cc99\" opacity=\"0.6\" /><circle cx=\"55.78673749631378\" cy=\"37.60907778755102\" r=\"0.003334906915323046\" stroke=\"#555555\" stroke-width=\"0.0011116356384410153\" fill=\"#66cc99\" opacity=\"0.6\" /><circle cx=\"55.78773118394491\" cy=\"37.62268984419149\" r=\"0.003334906915323046\" stroke=\"#555555\" stroke-width=\"0.0011116356384410153\" fill=\"#66cc99\" opacity=\"0.6\" /><circle cx=\"55.805039025583866\" cy=\"37.65511137260926\" r=\"0.003334906915323046\" stroke=\"#555555\" stroke-width=\"0.0011116356384410153\" fill=\"#66cc99\" opacity=\"0.6\" /><circle cx=\"55.794565411621235\" cy=\"37.679145345463375\" r=\"0.003334906915323046\" stroke=\"#555555\" stroke-width=\"0.0011116356384410153\" fill=\"#66cc99\" opacity=\"0.6\" /><circle cx=\"55.76655628605024\" cy=\"37.69890255897802\" r=\"0.003334906915323046\" stroke=\"#555555\" stroke-width=\"0.0011116356384410153\" fill=\"#66cc99\" opacity=\"0.6\" /><circle cx=\"55.769831564974645\" cy=\"37.68461082199561\" r=\"0.003334906915323046\" stroke=\"#555555\" stroke-width=\"0.0011116356384410153\" fill=\"#66cc99\" opacity=\"0.6\" /><circle cx=\"55.76019177091838\" cy=\"37.63619479864865\" r=\"0.003334906915323046\" stroke=\"#555555\" stroke-width=\"0.0011116356384410153\" fill=\"#66cc99\" opacity=\"0.6\" /><polyline fill=\"none\" stroke=\"#66cc99\" stroke-width=\"0.0022232712768820305\" points=\"55.77878499671319,37.68498097425042 55.76327686046913,37.672677423828176 55.76456877662281,37.680304451386725\" opacity=\"0.8\" /><polyline fill=\"none\" stroke=\"#66cc99\" stroke-width=\"0.0022232712768820305\" points=\"55.77138968299285,37.65509030479346 55.818173612657425,37.68512475253934 55.796155792095455,37.610151675704415 55.79315450094319,37.709839894034275\" opacity=\"0.8\" /><path fill-rule=\"evenodd\" fill=\"#66cc99\" stroke=\"#555555\" stroke-width=\"0.0022232712768820305\" opacity=\"0.6\" d=\"M 55.78761879436979,37.63615782145024 L 55.780697093976826,37.62603382702781 L 55.77539030781571,37.606910668252695 L 55.75544440377968,37.61758192838202 L 55.76786281903052,37.633443699122914 L 55.78761879436979,37.63615782145024 z\" /><path fill-rule=\"evenodd\" fill=\"#66cc99\" stroke=\"#555555\" stroke-width=\"0.0022232712768820305\" opacity=\"0.6\" d=\"M 55.7928296310409,37.698486275326076 L 55.77278288115452,37.688801528760436 L 55.76368127564725,37.698486275326076 L 55.7928296310409,37.698486275326076 z\" /><path fill-rule=\"evenodd\" fill=\"#66cc99\" stroke=\"#555555\" stroke-width=\"0.0022232712768820305\" opacity=\"0.6\" d=\"M 55.79368651954093,37.69571807615883 L 55.794460680234494,37.674021830813174 L 55.77528410025163,37.667288935402446 L 55.76781935004553,37.680783658887485 L 55.75877604407146,37.694624365107835 L 55.79368651954093,37.69571807615883 z\" /><path fill-rule=\"evenodd\" fill=\"#66cc99\" stroke=\"#555555\" stroke-width=\"0.0022232712768820305\" opacity=\"0.6\" d=\"M 55.80373940908265,37.707400551606106 L 55.80445532302893,37.689947384746716 L 55.78898248017907,37.69407954914247 L 55.77225318874775,37.68922197381998 L 55.77641999749454,37.70613358749081 L 55.80373940908265,37.707400551606106 z\" /></g></g></svg>"
      ],
      "text/plain": [
       "<GEOMETRYCOLLECTION (POINT (55.784 37.647), POINT (55.771 37.643), POINT (55...>"
      ]
     },
     "execution_count": 17,
     "metadata": {},
     "output_type": "execute_result"
    }
   ],
   "source": [
    "from shapely import wkt \n",
    "file_wkt = open('geom.wkt', 'r')\n",
    "geom_objects = wkt.loads(file_wkt.read())\n",
    "geom_objects\n"
   ]
  },
  {
   "cell_type": "markdown",
   "metadata": {},
   "source": [
    "### Маленький пространственный анализ\n",
    "Проведем проверки вхождений и пересечений для созданного набора объектов."
   ]
  },
  {
   "cell_type": "code",
   "execution_count": 18,
   "metadata": {},
   "outputs": [
    {
     "name": "stdout",
     "output_type": "stream",
     "text": [
      "Точка 8 входит в полигон 14\n",
      "Ломаная 10 пересекается с объектом 14\n",
      "Ломаная 11 пересекается с объектом 14\n",
      "Ломаная 11 пересекается с объектом 15\n",
      "Полигон 13 пересекается с объектом 14\n",
      "Полигон 13 пересекается с объектом 15\n",
      "Полигон 14 пересекается с объектом 15\n"
     ]
    }
   ],
   "source": [
    "import shapely\n",
    "from shapely import wkt \n",
    "from shapely import Point\n",
    "from shapely import Polygon\n",
    "from shapely import LineString\n",
    "file_wkt = open('geom.wkt', 'r')\n",
    "geom_objects = wkt.loads(file_wkt.read())\n",
    "file_wkt.close()\n",
    "file_html = open(\"input_and_SA.html\", \"w\")\n",
    "page = '''<html>\n",
    "<body>\n",
    "<p> Исходные данные (в формате wkt):'''\n",
    "page = page + str(geom_objects.wkt) + '</p><br/>'\n",
    "page = page + '<ul>'\n",
    "for geom in geom_objects.geoms:\n",
    "    number_geom = list(geom_objects.geoms).index(geom)\n",
    "    str_type = \"\"\n",
    "    if type(geom) == Polygon:\n",
    "        str_type = \"Полигон \"\n",
    "    if type(geom) == LineString:\n",
    "        str_type = \"Ломаная \"\n",
    "    if type(geom) == Point:\n",
    "        str_type = \"Точка \"\n",
    "\n",
    "    for another_geom in geom_objects.geoms:\n",
    "        number_geom_2 = list(geom_objects.geoms).index(another_geom)\n",
    "        if (number_geom < number_geom_2):\n",
    "            if (type(geom)!= Point and type(another_geom) != Point and shapely.intersects(geom, another_geom)):\n",
    "                p1 = (str_type+str(number_geom)+\" пересекается с объектом \"+str(number_geom_2))\n",
    "                page = page + '<li>'+p1+'</li>'\n",
    "                print(p1)\n",
    "            if (type(geom) == Point and type(another_geom) == Polygon and shapely.contains(another_geom, geom)):\n",
    "                p2 = (str_type+str(number_geom)+\" входит в полигон \"+str(number_geom_2))\n",
    "                page = page + '<li>'+p2+'</li>'\n",
    "                print(p2)\n",
    "page = page + '</ul>'\n",
    "page = page + ('''\n",
    "</body>\n",
    "</html>''')\n",
    "file_html.write(page)\n",
    "file_html.close()"
   ]
  },
  {
   "cell_type": "markdown",
   "metadata": {},
   "source": [
    "### Вывод на карте\n",
    "Посмотрим на карте на эти объекты."
   ]
  },
  {
   "cell_type": "code",
   "execution_count": 25,
   "metadata": {},
   "outputs": [
    {
     "data": {
      "text/html": [
       "<div style=\"width:100%;\"><div style=\"position:relative;width:100%;height:0;padding-bottom:60%;\"><span style=\"color:#565656\">Make this Notebook Trusted to load map: File -> Trust Notebook</span><iframe srcdoc=\"&lt;!DOCTYPE html&gt;\n",
       "&lt;html&gt;\n",
       "&lt;head&gt;\n",
       "    \n",
       "    &lt;meta http-equiv=&quot;content-type&quot; content=&quot;text/html; charset=UTF-8&quot; /&gt;\n",
       "    \n",
       "        &lt;script&gt;\n",
       "            L_NO_TOUCH = false;\n",
       "            L_DISABLE_3D = false;\n",
       "        &lt;/script&gt;\n",
       "    \n",
       "    &lt;style&gt;html, body {width: 100%;height: 100%;margin: 0;padding: 0;}&lt;/style&gt;\n",
       "    &lt;style&gt;#map {position:absolute;top:0;bottom:0;right:0;left:0;}&lt;/style&gt;\n",
       "    &lt;script src=&quot;https://cdn.jsdelivr.net/npm/leaflet@1.9.3/dist/leaflet.js&quot;&gt;&lt;/script&gt;\n",
       "    &lt;script src=&quot;https://code.jquery.com/jquery-3.7.1.min.js&quot;&gt;&lt;/script&gt;\n",
       "    &lt;script src=&quot;https://cdn.jsdelivr.net/npm/bootstrap@5.2.2/dist/js/bootstrap.bundle.min.js&quot;&gt;&lt;/script&gt;\n",
       "    &lt;script src=&quot;https://cdnjs.cloudflare.com/ajax/libs/Leaflet.awesome-markers/2.0.2/leaflet.awesome-markers.js&quot;&gt;&lt;/script&gt;\n",
       "    &lt;link rel=&quot;stylesheet&quot; href=&quot;https://cdn.jsdelivr.net/npm/leaflet@1.9.3/dist/leaflet.css&quot;/&gt;\n",
       "    &lt;link rel=&quot;stylesheet&quot; href=&quot;https://cdn.jsdelivr.net/npm/bootstrap@5.2.2/dist/css/bootstrap.min.css&quot;/&gt;\n",
       "    &lt;link rel=&quot;stylesheet&quot; href=&quot;https://netdna.bootstrapcdn.com/bootstrap/3.0.0/css/bootstrap.min.css&quot;/&gt;\n",
       "    &lt;link rel=&quot;stylesheet&quot; href=&quot;https://cdn.jsdelivr.net/npm/@fortawesome/fontawesome-free@6.2.0/css/all.min.css&quot;/&gt;\n",
       "    &lt;link rel=&quot;stylesheet&quot; href=&quot;https://cdnjs.cloudflare.com/ajax/libs/Leaflet.awesome-markers/2.0.2/leaflet.awesome-markers.css&quot;/&gt;\n",
       "    &lt;link rel=&quot;stylesheet&quot; href=&quot;https://cdn.jsdelivr.net/gh/python-visualization/folium/folium/templates/leaflet.awesome.rotate.min.css&quot;/&gt;\n",
       "    \n",
       "            &lt;meta name=&quot;viewport&quot; content=&quot;width=device-width,\n",
       "                initial-scale=1.0, maximum-scale=1.0, user-scalable=no&quot; /&gt;\n",
       "            &lt;style&gt;\n",
       "                #map_41e0c0b6784f43540089d3f2c85f6461 {\n",
       "                    position: relative;\n",
       "                    width: 100.0%;\n",
       "                    height: 100.0%;\n",
       "                    left: 0.0%;\n",
       "                    top: 0.0%;\n",
       "                }\n",
       "                .leaflet-container { font-size: 1rem; }\n",
       "            &lt;/style&gt;\n",
       "        \n",
       "&lt;/head&gt;\n",
       "&lt;body&gt;\n",
       "    \n",
       "    \n",
       "            &lt;div class=&quot;folium-map&quot; id=&quot;map_41e0c0b6784f43540089d3f2c85f6461&quot; &gt;&lt;/div&gt;\n",
       "        \n",
       "&lt;/body&gt;\n",
       "&lt;script&gt;\n",
       "    \n",
       "    \n",
       "            var map_41e0c0b6784f43540089d3f2c85f6461 = L.map(\n",
       "                &quot;map_41e0c0b6784f43540089d3f2c85f6461&quot;,\n",
       "                {\n",
       "                    center: [55.759668, 37.66404],\n",
       "                    crs: L.CRS.EPSG3857,\n",
       "                    zoom: 11,\n",
       "                    zoomControl: true,\n",
       "                    preferCanvas: false,\n",
       "                }\n",
       "            );\n",
       "            L.control.scale().addTo(map_41e0c0b6784f43540089d3f2c85f6461);\n",
       "\n",
       "            \n",
       "\n",
       "        \n",
       "    \n",
       "            var tile_layer_ca1581d738049dccc212cccf4f487053 = L.tileLayer(\n",
       "                &quot;https://cartodb-basemaps-{s}.global.ssl.fastly.net/light_all/{z}/{x}/{y}.png&quot;,\n",
       "                {&quot;attribution&quot;: &quot;\\u0026copy; \\u003ca target=\\&quot;_blank\\&quot; href=\\&quot;http://www.openstreetmap.org/copyright\\&quot;\\u003eOpenStreetMap\\u003c/a\\u003e contributors \\u0026copy; \\u003ca target=\\&quot;_blank\\&quot; href=\\&quot;http://cartodb.com/attributions\\&quot;\\u003eCartoDB\\u003c/a\\u003e, CartoDB \\u003ca target=\\&quot;_blank\\&quot; href =\\&quot;http://cartodb.com/attributions\\&quot;\\u003eattributions\\u003c/a\\u003e&quot;, &quot;detectRetina&quot;: false, &quot;maxNativeZoom&quot;: 18, &quot;maxZoom&quot;: 18, &quot;minZoom&quot;: 0, &quot;noWrap&quot;: false, &quot;opacity&quot;: 1, &quot;subdomains&quot;: &quot;abc&quot;, &quot;tms&quot;: false}\n",
       "            );\n",
       "        \n",
       "    \n",
       "                tile_layer_ca1581d738049dccc212cccf4f487053.addTo(map_41e0c0b6784f43540089d3f2c85f6461);\n",
       "    \n",
       "            var marker_72543e519235dc97e89d83cd26869e3c = L.marker(\n",
       "                [55.784327221589535, 37.64736919639627],\n",
       "                {}\n",
       "            ).addTo(map_41e0c0b6784f43540089d3f2c85f6461);\n",
       "        \n",
       "    \n",
       "            var marker_e5d8f21aafc9b40b1538e29f629b1aba = L.marker(\n",
       "                [55.77074231987004, 37.642915005575674],\n",
       "                {}\n",
       "            ).addTo(map_41e0c0b6784f43540089d3f2c85f6461);\n",
       "        \n",
       "    \n",
       "            var marker_043b3e3c4a1b57e57ba1010b149bcbb8 = L.marker(\n",
       "                [55.77845688465002, 37.61750577816164],\n",
       "                {}\n",
       "            ).addTo(map_41e0c0b6784f43540089d3f2c85f6461);\n",
       "        \n",
       "    \n",
       "            var marker_22739161273a97950defb00eb6006491 = L.marker(\n",
       "                [55.78673749631378, 37.60907778755102],\n",
       "                {}\n",
       "            ).addTo(map_41e0c0b6784f43540089d3f2c85f6461);\n",
       "        \n",
       "    \n",
       "            var marker_d2ed6fb8b8f5fc857566fbbfb1e018b8 = L.marker(\n",
       "                [55.78773118394491, 37.62268984419149],\n",
       "                {}\n",
       "            ).addTo(map_41e0c0b6784f43540089d3f2c85f6461);\n",
       "        \n",
       "    \n",
       "            var marker_be8610e4aa549fee6ce9f00c1034ae83 = L.marker(\n",
       "                [55.805039025583866, 37.65511137260926],\n",
       "                {}\n",
       "            ).addTo(map_41e0c0b6784f43540089d3f2c85f6461);\n",
       "        \n",
       "    \n",
       "            var marker_910acfe4d528f3f89a60ef9cd8717494 = L.marker(\n",
       "                [55.794565411621235, 37.679145345463375],\n",
       "                {}\n",
       "            ).addTo(map_41e0c0b6784f43540089d3f2c85f6461);\n",
       "        \n",
       "    \n",
       "            var marker_8ae1910fa03efd4c88f98908c5f87402 = L.marker(\n",
       "                [55.76655628605024, 37.69890255897802],\n",
       "                {}\n",
       "            ).addTo(map_41e0c0b6784f43540089d3f2c85f6461);\n",
       "        \n",
       "    \n",
       "            var marker_bbae77cca75daab08d7066c1e948e0b4 = L.marker(\n",
       "                [55.769831564974645, 37.68461082199561],\n",
       "                {}\n",
       "            ).addTo(map_41e0c0b6784f43540089d3f2c85f6461);\n",
       "        \n",
       "    \n",
       "            var marker_4318a31797bc5cf2ad09374d9097e624 = L.marker(\n",
       "                [55.76019177091838, 37.63619479864865],\n",
       "                {}\n",
       "            ).addTo(map_41e0c0b6784f43540089d3f2c85f6461);\n",
       "        \n",
       "    \n",
       "            var poly_line_7c6eea9357fa42a45e0c4cf518157969 = L.polyline(\n",
       "                [[55.77878499671319, 37.68498097425042], [55.76327686046913, 37.672677423828176], [55.76456877662281, 37.680304451386725]],\n",
       "                {&quot;bubblingMouseEvents&quot;: true, &quot;color&quot;: &quot;gray&quot;, &quot;dashArray&quot;: null, &quot;dashOffset&quot;: null, &quot;fill&quot;: false, &quot;fillColor&quot;: &quot;gray&quot;, &quot;fillOpacity&quot;: 0.2, &quot;fillRule&quot;: &quot;evenodd&quot;, &quot;lineCap&quot;: &quot;round&quot;, &quot;lineJoin&quot;: &quot;round&quot;, &quot;noClip&quot;: false, &quot;opacity&quot;: 1.0, &quot;smoothFactor&quot;: 1.0, &quot;stroke&quot;: true, &quot;weight&quot;: 2}\n",
       "            ).addTo(map_41e0c0b6784f43540089d3f2c85f6461);\n",
       "        \n",
       "    \n",
       "            var poly_line_a8f62d2c3d2fa781b55bf491d62f9224 = L.polyline(\n",
       "                [[55.77138968299285, 37.65509030479346], [55.818173612657425, 37.68512475253934], [55.796155792095455, 37.610151675704415], [55.79315450094319, 37.709839894034275]],\n",
       "                {&quot;bubblingMouseEvents&quot;: true, &quot;color&quot;: &quot;gray&quot;, &quot;dashArray&quot;: null, &quot;dashOffset&quot;: null, &quot;fill&quot;: false, &quot;fillColor&quot;: &quot;gray&quot;, &quot;fillOpacity&quot;: 0.2, &quot;fillRule&quot;: &quot;evenodd&quot;, &quot;lineCap&quot;: &quot;round&quot;, &quot;lineJoin&quot;: &quot;round&quot;, &quot;noClip&quot;: false, &quot;opacity&quot;: 1.0, &quot;smoothFactor&quot;: 1.0, &quot;stroke&quot;: true, &quot;weight&quot;: 2}\n",
       "            ).addTo(map_41e0c0b6784f43540089d3f2c85f6461);\n",
       "        \n",
       "    \n",
       "            var polygon_320d57e2d3b2b6b458d15699bfc6b949 = L.polygon(\n",
       "                [[55.78761879436979, 37.63615782145024], [55.780697093976826, 37.62603382702781], [55.77539030781571, 37.606910668252695], [55.75544440377968, 37.61758192838202], [55.76786281903052, 37.633443699122914], [55.78761879436979, 37.63615782145024]],\n",
       "                {&quot;bubblingMouseEvents&quot;: true, &quot;color&quot;: &quot;blue&quot;, &quot;dashArray&quot;: null, &quot;dashOffset&quot;: null, &quot;fill&quot;: true, &quot;fillColor&quot;: &quot;white&quot;, &quot;fillOpacity&quot;: 0.5, &quot;fillRule&quot;: &quot;evenodd&quot;, &quot;lineCap&quot;: &quot;round&quot;, &quot;lineJoin&quot;: &quot;round&quot;, &quot;noClip&quot;: false, &quot;opacity&quot;: 1.0, &quot;smoothFactor&quot;: 1.0, &quot;stroke&quot;: true, &quot;weight&quot;: 2}\n",
       "            ).addTo(map_41e0c0b6784f43540089d3f2c85f6461);\n",
       "        \n",
       "    \n",
       "        var popup_ee88aeabdc0a1066d17e410c9abcde4c = L.popup({&quot;maxWidth&quot;: &quot;100%&quot;});\n",
       "\n",
       "        \n",
       "            \n",
       "                var html_891a686f92bc9235a56c0d2538d9db60 = $(`&lt;div id=&quot;html_891a686f92bc9235a56c0d2538d9db60&quot; style=&quot;width: 100.0%; height: 100.0%;&quot;&gt;Полигон 12&lt;/div&gt;`)[0];\n",
       "                popup_ee88aeabdc0a1066d17e410c9abcde4c.setContent(html_891a686f92bc9235a56c0d2538d9db60);\n",
       "            \n",
       "        \n",
       "\n",
       "        polygon_320d57e2d3b2b6b458d15699bfc6b949.bindPopup(popup_ee88aeabdc0a1066d17e410c9abcde4c)\n",
       "        ;\n",
       "\n",
       "        \n",
       "    \n",
       "    \n",
       "            polygon_320d57e2d3b2b6b458d15699bfc6b949.bindTooltip(\n",
       "                `&lt;div&gt;\n",
       "                     12\n",
       "                 &lt;/div&gt;`,\n",
       "                {&quot;sticky&quot;: true}\n",
       "            );\n",
       "        \n",
       "    \n",
       "            var polygon_aa00bcbace8a7edb6b1fa1f38ce6bc1e = L.polygon(\n",
       "                [[55.7928296310409, 37.698486275326076], [55.77278288115452, 37.688801528760436], [55.76368127564725, 37.698486275326076], [55.7928296310409, 37.698486275326076]],\n",
       "                {&quot;bubblingMouseEvents&quot;: true, &quot;color&quot;: &quot;blue&quot;, &quot;dashArray&quot;: null, &quot;dashOffset&quot;: null, &quot;fill&quot;: true, &quot;fillColor&quot;: &quot;white&quot;, &quot;fillOpacity&quot;: 0.5, &quot;fillRule&quot;: &quot;evenodd&quot;, &quot;lineCap&quot;: &quot;round&quot;, &quot;lineJoin&quot;: &quot;round&quot;, &quot;noClip&quot;: false, &quot;opacity&quot;: 1.0, &quot;smoothFactor&quot;: 1.0, &quot;stroke&quot;: true, &quot;weight&quot;: 2}\n",
       "            ).addTo(map_41e0c0b6784f43540089d3f2c85f6461);\n",
       "        \n",
       "    \n",
       "        var popup_f61bd33f16d52e41b8ecb4ab58d00668 = L.popup({&quot;maxWidth&quot;: &quot;100%&quot;});\n",
       "\n",
       "        \n",
       "            \n",
       "                var html_d1f6eb90579313e4865d5979bfb11566 = $(`&lt;div id=&quot;html_d1f6eb90579313e4865d5979bfb11566&quot; style=&quot;width: 100.0%; height: 100.0%;&quot;&gt;Полигон 13&lt;/div&gt;`)[0];\n",
       "                popup_f61bd33f16d52e41b8ecb4ab58d00668.setContent(html_d1f6eb90579313e4865d5979bfb11566);\n",
       "            \n",
       "        \n",
       "\n",
       "        polygon_aa00bcbace8a7edb6b1fa1f38ce6bc1e.bindPopup(popup_f61bd33f16d52e41b8ecb4ab58d00668)\n",
       "        ;\n",
       "\n",
       "        \n",
       "    \n",
       "    \n",
       "            polygon_aa00bcbace8a7edb6b1fa1f38ce6bc1e.bindTooltip(\n",
       "                `&lt;div&gt;\n",
       "                     13\n",
       "                 &lt;/div&gt;`,\n",
       "                {&quot;sticky&quot;: true}\n",
       "            );\n",
       "        \n",
       "    \n",
       "            var polygon_d872d31a1e3ca0e83f62f057dc06c5ca = L.polygon(\n",
       "                [[55.79368651954093, 37.69571807615883], [55.794460680234494, 37.674021830813174], [55.77528410025163, 37.667288935402446], [55.76781935004553, 37.680783658887485], [55.75877604407146, 37.694624365107835], [55.79368651954093, 37.69571807615883]],\n",
       "                {&quot;bubblingMouseEvents&quot;: true, &quot;color&quot;: &quot;blue&quot;, &quot;dashArray&quot;: null, &quot;dashOffset&quot;: null, &quot;fill&quot;: true, &quot;fillColor&quot;: &quot;white&quot;, &quot;fillOpacity&quot;: 0.5, &quot;fillRule&quot;: &quot;evenodd&quot;, &quot;lineCap&quot;: &quot;round&quot;, &quot;lineJoin&quot;: &quot;round&quot;, &quot;noClip&quot;: false, &quot;opacity&quot;: 1.0, &quot;smoothFactor&quot;: 1.0, &quot;stroke&quot;: true, &quot;weight&quot;: 2}\n",
       "            ).addTo(map_41e0c0b6784f43540089d3f2c85f6461);\n",
       "        \n",
       "    \n",
       "        var popup_ff02c324adb2fa39304cb6a9b1096699 = L.popup({&quot;maxWidth&quot;: &quot;100%&quot;});\n",
       "\n",
       "        \n",
       "            \n",
       "                var html_7eedfe4bcc107e72d11101508065b2ec = $(`&lt;div id=&quot;html_7eedfe4bcc107e72d11101508065b2ec&quot; style=&quot;width: 100.0%; height: 100.0%;&quot;&gt;Полигон 14&lt;/div&gt;`)[0];\n",
       "                popup_ff02c324adb2fa39304cb6a9b1096699.setContent(html_7eedfe4bcc107e72d11101508065b2ec);\n",
       "            \n",
       "        \n",
       "\n",
       "        polygon_d872d31a1e3ca0e83f62f057dc06c5ca.bindPopup(popup_ff02c324adb2fa39304cb6a9b1096699)\n",
       "        ;\n",
       "\n",
       "        \n",
       "    \n",
       "    \n",
       "            polygon_d872d31a1e3ca0e83f62f057dc06c5ca.bindTooltip(\n",
       "                `&lt;div&gt;\n",
       "                     14\n",
       "                 &lt;/div&gt;`,\n",
       "                {&quot;sticky&quot;: true}\n",
       "            );\n",
       "        \n",
       "    \n",
       "            var polygon_7b7e61bdda382025b112a1caf39fca47 = L.polygon(\n",
       "                [[55.80373940908265, 37.707400551606106], [55.80445532302893, 37.689947384746716], [55.78898248017907, 37.69407954914247], [55.77225318874775, 37.68922197381998], [55.77641999749454, 37.70613358749081], [55.80373940908265, 37.707400551606106]],\n",
       "                {&quot;bubblingMouseEvents&quot;: true, &quot;color&quot;: &quot;blue&quot;, &quot;dashArray&quot;: null, &quot;dashOffset&quot;: null, &quot;fill&quot;: true, &quot;fillColor&quot;: &quot;white&quot;, &quot;fillOpacity&quot;: 0.5, &quot;fillRule&quot;: &quot;evenodd&quot;, &quot;lineCap&quot;: &quot;round&quot;, &quot;lineJoin&quot;: &quot;round&quot;, &quot;noClip&quot;: false, &quot;opacity&quot;: 1.0, &quot;smoothFactor&quot;: 1.0, &quot;stroke&quot;: true, &quot;weight&quot;: 2}\n",
       "            ).addTo(map_41e0c0b6784f43540089d3f2c85f6461);\n",
       "        \n",
       "    \n",
       "        var popup_339cd62f8eb4ffdebfc0c8677d403335 = L.popup({&quot;maxWidth&quot;: &quot;100%&quot;});\n",
       "\n",
       "        \n",
       "            \n",
       "                var html_fb25e4c64fe1a0929a3d11c9e1d96737 = $(`&lt;div id=&quot;html_fb25e4c64fe1a0929a3d11c9e1d96737&quot; style=&quot;width: 100.0%; height: 100.0%;&quot;&gt;Полигон 15&lt;/div&gt;`)[0];\n",
       "                popup_339cd62f8eb4ffdebfc0c8677d403335.setContent(html_fb25e4c64fe1a0929a3d11c9e1d96737);\n",
       "            \n",
       "        \n",
       "\n",
       "        polygon_7b7e61bdda382025b112a1caf39fca47.bindPopup(popup_339cd62f8eb4ffdebfc0c8677d403335)\n",
       "        ;\n",
       "\n",
       "        \n",
       "    \n",
       "    \n",
       "            polygon_7b7e61bdda382025b112a1caf39fca47.bindTooltip(\n",
       "                `&lt;div&gt;\n",
       "                     15\n",
       "                 &lt;/div&gt;`,\n",
       "                {&quot;sticky&quot;: true}\n",
       "            );\n",
       "        \n",
       "&lt;/script&gt;\n",
       "&lt;/html&gt;\" style=\"position:absolute;width:100%;height:100%;left:0;top:0;border:none !important;\" allowfullscreen webkitallowfullscreen mozallowfullscreen></iframe></div></div>"
      ],
      "text/plain": [
       "<folium.folium.Map at 0x7f288d7452a0>"
      ]
     },
     "execution_count": 25,
     "metadata": {},
     "output_type": "execute_result"
    }
   ],
   "source": [
    "from shapely import wkt\n",
    "from shapely import Point\n",
    "from shapely import Polygon\n",
    "from shapely import LineString\n",
    "import folium\n",
    "import numpy as np\n",
    "m1 = folium.Map(location=[55.759668, 37.66404], control_scale=True,\n",
    "                tiles='Cartodb Positron',\n",
    "                zoom_start=11)\n",
    "\n",
    "file_wkt = open('geom.wkt', 'r')\n",
    "geom_objects = wkt.loads(file_wkt.read())\n",
    "for geom in geom_objects.geoms:\n",
    "    number_geom = list(geom_objects.geoms).index(geom)\n",
    "    if type(geom) == Polygon:\n",
    "        folium.Polygon(\n",
    "            locations=np.array(geom.exterior.coords),\n",
    "            color=\"blue\",\n",
    "            weight=2,\n",
    "            fill_color=\"white\",\n",
    "            fill_opacity=0.5,\n",
    "            fill=True,\n",
    "            popup=\"Полигон \"+str(number_geom),\n",
    "            tooltip=str(number_geom),\n",
    "        ).add_to(m1)\n",
    "    if type(geom) == LineString:\n",
    "        folium.PolyLine(\n",
    "            locations=np.array(geom.coords),\n",
    "            color=\"gray\",\n",
    "            weight=2,\n",
    "        ).add_to(m1)\n",
    "    if type(geom) == Point:\n",
    "        folium.Marker(\n",
    "            location=np.array(geom.coords),\n",
    "        ).add_to(m1) \n",
    "m1.save(\"map.html\")\n",
    "m1\n"
   ]
  },
  {
   "cell_type": "markdown",
   "metadata": {},
   "source": [
    "## Задание\n",
    "1. Во фрагменте кода ниже добавьте свои ФИО и группу в теге `<h2>`\n",
    "2. Заглянуть в файл `createGeom.py`, ознакомиться с алгоритмом и в последней строке указать другие исходные координаты `startX` и `startY` - выберите точку недалеко от вашего местоположения. При желании можно изменить и параметр `delta`;\n",
    "3. Обновить код в разделе \"Маленький пространственный анализ\" так, чтобы в результат указывались типы обоих объектов (сейчас только у первого).\n",
    "4. Обновить центр `location` и масштаб `zoom_start` карты `folium.Map`, так чтобы объекты были хорошо видны. Обновить код в разделе \"Вывод на карте\" так, чтобы у всех объектов выводились обозначения: только номер (при наведении) и тип с номером (при клике). Сейчас это реализовано только для полигонов, нужно по аналогии добавить для ломаных и точек.\n",
    "5. Не забудьте после всех изменений перезапустить код ниже: он соберет все результаты в отчет. Сохраните файл `result_2.html` и приложите его в СДО как ответ на Задание №2."
   ]
  },
  {
   "cell_type": "code",
   "execution_count": 20,
   "metadata": {},
   "outputs": [],
   "source": [
    "file_html = open(\"result_2.html\", \"w\")\n",
    "page = ('''<html>\n",
    "<body>\n",
    "<h1>Отчет за 2 неделю ознакомительной практики по разработке программного обеспечения геосервиса</h1> \n",
    "<h2>Выполнил: </h2>''') \n",
    "with open('input_and_SA.html', 'r', encoding='utf-8') as f1:\n",
    "    data1 = f1.readlines()\n",
    "for str1 in data1:\n",
    "    page = page + str1\n",
    "with open('map.html', 'r', encoding='utf-8') as f2:\n",
    "    data2 = f2.readlines()\n",
    "for str2 in data2:\n",
    "    page = page + str2\n",
    "page = page + ('''\n",
    "</body>\n",
    "</html>''')\n",
    "file_html.write(page)\n",
    "file_html.close()"
   ]
  },
  {
   "cell_type": "code",
   "execution_count": null,
   "metadata": {},
   "outputs": [],
   "source": []
  }
 ],
 "metadata": {
  "colab": {
   "provenance": []
  },
  "kernelspec": {
   "display_name": "Python 3 (ipykernel)",
   "language": "python",
   "name": "python3"
  },
  "language_info": {
   "codemirror_mode": {
    "name": "ipython",
    "version": 3
   },
   "file_extension": ".py",
   "mimetype": "text/x-python",
   "name": "python",
   "nbconvert_exporter": "python",
   "pygments_lexer": "ipython3",
   "version": "3.10.10"
  },
  "widgets": {
   "application/vnd.jupyter.widget-state+json": {
    "003ed1ebc08b47b78596c6ee79a8601a": {
     "model_module": "@jupyter-widgets/base",
     "model_module_version": "1.2.0",
     "model_name": "LayoutModel",
     "state": {
      "_model_module": "@jupyter-widgets/base",
      "_model_module_version": "1.2.0",
      "_model_name": "LayoutModel",
      "_view_count": null,
      "_view_module": "@jupyter-widgets/base",
      "_view_module_version": "1.2.0",
      "_view_name": "LayoutView",
      "align_content": null,
      "align_items": null,
      "align_self": null,
      "border": null,
      "bottom": null,
      "display": null,
      "flex": null,
      "flex_flow": null,
      "grid_area": null,
      "grid_auto_columns": null,
      "grid_auto_flow": null,
      "grid_auto_rows": null,
      "grid_column": null,
      "grid_gap": null,
      "grid_row": null,
      "grid_template_areas": null,
      "grid_template_columns": null,
      "grid_template_rows": null,
      "height": null,
      "justify_content": null,
      "justify_items": null,
      "left": null,
      "margin": null,
      "max_height": null,
      "max_width": null,
      "min_height": null,
      "min_width": null,
      "object_fit": null,
      "object_position": null,
      "order": null,
      "overflow": null,
      "overflow_x": null,
      "overflow_y": null,
      "padding": null,
      "right": null,
      "top": null,
      "visibility": null,
      "width": null
     }
    },
    "610b8e53ca514501a3b88aeed8022481": {
     "model_module": "keplergl-jupyter",
     "model_module_version": "^0.3.2",
     "model_name": "KeplerGlModal",
     "state": {
      "_dom_classes": [],
      "_model_module": "keplergl-jupyter",
      "_model_module_version": "^0.3.2",
      "_model_name": "KeplerGlModal",
      "_view_count": null,
      "_view_module": "keplergl-jupyter",
      "_view_module_version": "^0.3.2",
      "_view_name": "KeplerGlView",
      "config": {
       "config": {
        "mapState": {
         "bearing": 0,
         "dragRotate": false,
         "isSplit": false,
         "latitude": 55.75147918180744,
         "longitude": 37.637573676380086,
         "pitch": 0,
         "zoom": 12.868597906995213
        },
        "mapStyle": {
         "mapStyles": {},
         "styleType": "satellite",
         "threeDBuildingColor": [
          3.7245996603793508,
          6.518049405663864,
          13.036098811327728
         ],
         "topLayerGroups": {},
         "visibleLayerGroups": {}
        },
        "visState": {
         "animationConfig": {
          "currentTime": null,
          "speed": 1
         },
         "filters": [],
         "interactionConfig": {
          "brush": {
           "enabled": false,
           "size": 0.5
          },
          "coordinate": {
           "enabled": false
          },
          "geocoder": {
           "enabled": false
          },
          "tooltip": {
           "compareMode": false,
           "compareType": "absolute",
           "enabled": false,
           "fieldsToShow": {
            "df_w_wkt": [
             {
              "format": null,
              "name": "id"
             }
            ]
           }
          }
         },
         "layerBlending": "normal",
         "layers": [
          {
           "config": {
            "color": [
             18,
             147,
             154
            ],
            "columns": {
             "geojson": "wkt_string"
            },
            "dataId": "df_w_wkt",
            "hidden": false,
            "highlightColor": [
             252,
             242,
             26,
             255
            ],
            "isVisible": true,
            "label": "df_w_wkt",
            "textLabel": [
             {
              "alignment": "center",
              "anchor": "start",
              "color": [
               255,
               255,
               255
              ],
              "field": null,
              "offset": [
               0,
               0
              ],
              "size": 18
             }
            ],
            "visConfig": {
             "colorRange": {
              "category": "Uber",
              "colors": [
               "#5A1846",
               "#900C3F",
               "#C70039",
               "#E3611C",
               "#F1920E",
               "#FFC300"
              ],
              "name": "Global Warming",
              "type": "sequential"
             },
             "elevationScale": 5,
             "enable3d": false,
             "enableElevationZoomFactor": true,
             "filled": false,
             "heightRange": [
              0,
              500
             ],
             "opacity": 0.8,
             "radius": 10,
             "radiusRange": [
              0,
              50
             ],
             "sizeRange": [
              0,
              10
             ],
             "strokeColor": null,
             "strokeColorRange": {
              "category": "Uber",
              "colors": [
               "#5A1846",
               "#900C3F",
               "#C70039",
               "#E3611C",
               "#F1920E",
               "#FFC300"
              ],
              "name": "Global Warming",
              "type": "sequential"
             },
             "strokeOpacity": 0.8,
             "stroked": true,
             "thickness": 0.5,
             "wireframe": false
            }
           },
           "id": "zy92g8r",
           "type": "geojson",
           "visualChannels": {
            "colorField": null,
            "colorScale": "quantile",
            "heightField": null,
            "heightScale": "linear",
            "radiusField": null,
            "radiusScale": "linear",
            "sizeField": null,
            "sizeScale": "linear",
            "strokeColorField": null,
            "strokeColorScale": "quantile"
           }
          }
         ],
         "splitMaps": []
        }
       },
       "version": "v1"
      },
      "data": {
       "df_w_wkt": {
        "columns": [
         "id",
         "wkt_string"
        ],
        "data": [
         [
          1,
          "GEOMETRYCOLLECTION(LINESTRING (-322.338105 55.763546, -322.338186 55.763619, -322.338744 55.763462, -322.339023 55.76335, -322.339388 55.763275, -322.339543 55.763163),POINT (-322.338105 55.763658),POINT (-322.338851 55.763597),POLYGON ((-322.33722 55.763806, -322.338889 55.763329, -322.338781 55.76319, -322.338604 55.763244, -322.33839 55.763021, -322.338036 55.763121, -322.338229 55.763335, -322.338068 55.76338, -322.337821 55.763115, -322.337472 55.763226, -322.337735 55.763498, -322.337607 55.763528, -322.337537 55.763447, -322.337328 55.763492, -322.337419 55.763588, -322.337108 55.763679, -322.33722 55.763806)),POLYGON ((-322.33758 55.764862, -322.338223 55.76469, -322.338116 55.764557, -322.337778 55.764648, -322.337392 55.764219, -322.337773 55.764092, -322.33758 55.763896, -322.336882 55.764095, -322.336936 55.764156, -322.336662 55.764222, -322.336571 55.764138, -322.336378 55.764174, -322.336646 55.7644, -322.337075 55.764292, -322.33758 55.764862)), LINESTRING (-322.337494 55.763926, -322.337381 55.763776), POINT (-322.339033 55.76306), POINT (-322.336759 55.764111))"
         ]
        ],
        "index": [
         0
        ]
       }
      },
      "height": 700,
      "layout": "IPY_MODEL_003ed1ebc08b47b78596c6ee79a8601a",
      "value": "Hello World!"
     }
    }
   }
  }
 },
 "nbformat": 4,
 "nbformat_minor": 4
}
